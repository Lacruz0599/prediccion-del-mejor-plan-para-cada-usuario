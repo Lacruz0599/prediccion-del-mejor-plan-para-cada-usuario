{
 "cells": [
  {
   "cell_type": "markdown",
   "metadata": {},
   "source": [
    "# TItulo."
   ]
  },
  {
   "cell_type": "markdown",
   "metadata": {},
   "source": [
    "# Indice\n",
    "\n",
    "1. [Descripción del proyecto.](#Descripción-del-proyecto.).\n",
    "2. [Introducción.](#Introducción.)\n",
    "3. [Pasos iniciales.](#Pasos-iniciales.)\n",
    "4. [Limpieza y preprocesamiento de los datos.](#Limpieza-y-preprocesamiento-de-los-datos.)\n",
    "5. [Entrenamiento y selección del modelo.](#Entrenamiento-y-selección-del-modelo.)\n",
    "6. [Evaluación del modelo.](#Evaluación-del-modelo)\n",
    "7. [Conclusión.](#Conclusión.)"
   ]
  },
  {
   "cell_type": "markdown",
   "metadata": {},
   "source": [
    "## Descripción del proyecto.\n",
    "La compañía móvil Megaline no está satisfecha al ver que muchos de sus clientes utilizan planes heredados. Quieren desarrollar un modelo que pueda analizar el comportamiento de los clientes y recomendar uno de los nuevos planes de Megaline: Smart o Ultra.\n",
    "\n",
    "Tienes acceso a los datos de comportamiento de los suscriptores que ya se han cambiado a los planes nuevos (del proyecto del sprint de Análisis estadístico de datos). Para esta tarea de clasificación debes crear un modelo que escoja el plan correcto. Como ya hiciste el paso de procesar los datos, puedes lanzarte directo a crear el modelo.\n",
    "\n",
    "Desarrolla un modelo con la mayor exactitud posible. En este proyecto, el umbral de exactitud es 0.75. Usa el dataset para comprobar la exactitud."
   ]
  },
  {
   "cell_type": "markdown",
   "metadata": {},
   "source": [
    "## Introducción.\n",
    "\n",
    "La compañía móvil **Megaline** enfrenta un desafío significativo con la persistencia de muchos de sus clientes en el uso de planes heredados. Para abordar esta situación, se ha decidido desarrollar un modelo de clasificación que analice el comportamiento de los clientes y recomiende uno de los nuevos planes disponibles: **Smart** o **Ultra**. Con acceso a datos de comportamiento de suscriptores que ya han realizado la transición a estos nuevos planes, se busca crear un modelo que no solo identifique las características clave de los usuarios, sino que también logre una alta precisión en sus recomendaciones. Este proyecto tiene como objetivo alcanzar un umbral de exactitud mínimo de **0.75**, asegurando así que las recomendaciones sean efectivas y basadas en un análisis sólido de datos."
   ]
  },
  {
   "cell_type": "markdown",
   "metadata": {},
   "source": [
    "## Pasos iniciales.\n",
    "\n",
    "Para comenzar, es esencial configurar correctamente el entorno de trabajo, lo cual implica cargar las librerías necesarias y los datos con los que se trabajará en el análisis. En esta sección nos enfocaremos exclusivamente en preparar estas tareas preliminares, garantizando que todas las dependencias y el conjunto de datos estén listos para el procesamiento posterior."
   ]
  },
  {
   "cell_type": "markdown",
   "metadata": {},
   "source": [
    "### Inicialización.\n",
    "\n",
    "A continuación, se realizará la importación de las librerías necesarias para el desarrollo del proyecto. Estas librerías serán utilizadas a lo largo de todo el proceso, garantizando que todas las herramientas y funcionalidades estén disponibles desde el inicio."
   ]
  },
  {
   "cell_type": "code",
   "execution_count": 1,
   "metadata": {},
   "outputs": [],
   "source": [
    "# Importación de las librerias necesarias.\n",
    "import pandas as pd\n",
    "import numpy as np\n",
    "from sklearn.model_selection import GridSearchCV\n",
    "from sklearn.tree import DecisionTreeClassifier\n",
    "from sklearn.ensemble import RandomForestClassifier\n",
    "from sklearn.linear_model import LogisticRegression\n",
    "from sklearn.metrics import accuracy_score\n",
    "from sklearn.model_selection import train_test_split"
   ]
  },
  {
   "cell_type": "markdown",
   "metadata": {},
   "source": [
    "### Cargar datos.\n",
    "\n",
    "Los datos que se utilizarán para entrenar el modelo serán cargados en un dataframe denominado `df_users_behavior`. Este dataframe contendrá toda la información necesaria para realizar las operaciones de análisis y modelado durante el proyecto."
   ]
  },
  {
   "cell_type": "code",
   "execution_count": 2,
   "metadata": {},
   "outputs": [],
   "source": [
    "df_users_behavior = pd.read_csv('/datasets/users_behavior.csv')"
   ]
  },
  {
   "cell_type": "markdown",
   "metadata": {},
   "source": [
    "### Exploración de datos (EDA).\n",
    "\n",
    "En esta sección se llevará a cabo una breve exploración de los datos con el objetivo de identificar posibles errores y comprender cómo están estructurados. Este análisis preliminar permitirá detectar inconsistencias, valores faltantes u otros problemas que puedan afectar el rendimiento del modelo en etapas posteriores."
   ]
  },
  {
   "cell_type": "code",
   "execution_count": 3,
   "metadata": {},
   "outputs": [
    {
     "data": {
      "text/html": [
       "<div>\n",
       "<style scoped>\n",
       "    .dataframe tbody tr th:only-of-type {\n",
       "        vertical-align: middle;\n",
       "    }\n",
       "\n",
       "    .dataframe tbody tr th {\n",
       "        vertical-align: top;\n",
       "    }\n",
       "\n",
       "    .dataframe thead th {\n",
       "        text-align: right;\n",
       "    }\n",
       "</style>\n",
       "<table border=\"1\" class=\"dataframe\">\n",
       "  <thead>\n",
       "    <tr style=\"text-align: right;\">\n",
       "      <th></th>\n",
       "      <th>calls</th>\n",
       "      <th>minutes</th>\n",
       "      <th>messages</th>\n",
       "      <th>mb_used</th>\n",
       "      <th>is_ultra</th>\n",
       "    </tr>\n",
       "  </thead>\n",
       "  <tbody>\n",
       "    <tr>\n",
       "      <th>2436</th>\n",
       "      <td>81.0</td>\n",
       "      <td>627.34</td>\n",
       "      <td>56.0</td>\n",
       "      <td>17266.00</td>\n",
       "      <td>0</td>\n",
       "    </tr>\n",
       "    <tr>\n",
       "      <th>2510</th>\n",
       "      <td>63.0</td>\n",
       "      <td>508.70</td>\n",
       "      <td>21.0</td>\n",
       "      <td>19254.67</td>\n",
       "      <td>1</td>\n",
       "    </tr>\n",
       "    <tr>\n",
       "      <th>937</th>\n",
       "      <td>55.0</td>\n",
       "      <td>354.67</td>\n",
       "      <td>16.0</td>\n",
       "      <td>16405.57</td>\n",
       "      <td>0</td>\n",
       "    </tr>\n",
       "    <tr>\n",
       "      <th>112</th>\n",
       "      <td>68.0</td>\n",
       "      <td>482.78</td>\n",
       "      <td>26.0</td>\n",
       "      <td>8620.51</td>\n",
       "      <td>0</td>\n",
       "    </tr>\n",
       "    <tr>\n",
       "      <th>3084</th>\n",
       "      <td>34.0</td>\n",
       "      <td>244.71</td>\n",
       "      <td>7.0</td>\n",
       "      <td>10529.97</td>\n",
       "      <td>0</td>\n",
       "    </tr>\n",
       "    <tr>\n",
       "      <th>2849</th>\n",
       "      <td>91.0</td>\n",
       "      <td>582.01</td>\n",
       "      <td>55.0</td>\n",
       "      <td>16614.04</td>\n",
       "      <td>0</td>\n",
       "    </tr>\n",
       "    <tr>\n",
       "      <th>260</th>\n",
       "      <td>117.0</td>\n",
       "      <td>832.78</td>\n",
       "      <td>52.0</td>\n",
       "      <td>2949.68</td>\n",
       "      <td>1</td>\n",
       "    </tr>\n",
       "    <tr>\n",
       "      <th>1480</th>\n",
       "      <td>72.0</td>\n",
       "      <td>526.05</td>\n",
       "      <td>24.0</td>\n",
       "      <td>19545.92</td>\n",
       "      <td>0</td>\n",
       "    </tr>\n",
       "    <tr>\n",
       "      <th>863</th>\n",
       "      <td>120.0</td>\n",
       "      <td>929.36</td>\n",
       "      <td>39.0</td>\n",
       "      <td>15080.13</td>\n",
       "      <td>0</td>\n",
       "    </tr>\n",
       "    <tr>\n",
       "      <th>439</th>\n",
       "      <td>52.0</td>\n",
       "      <td>342.10</td>\n",
       "      <td>4.0</td>\n",
       "      <td>17785.85</td>\n",
       "      <td>0</td>\n",
       "    </tr>\n",
       "  </tbody>\n",
       "</table>\n",
       "</div>"
      ],
      "text/plain": [
       "      calls  minutes  messages   mb_used  is_ultra\n",
       "2436   81.0   627.34      56.0  17266.00         0\n",
       "2510   63.0   508.70      21.0  19254.67         1\n",
       "937    55.0   354.67      16.0  16405.57         0\n",
       "112    68.0   482.78      26.0   8620.51         0\n",
       "3084   34.0   244.71       7.0  10529.97         0\n",
       "2849   91.0   582.01      55.0  16614.04         0\n",
       "260   117.0   832.78      52.0   2949.68         1\n",
       "1480   72.0   526.05      24.0  19545.92         0\n",
       "863   120.0   929.36      39.0  15080.13         0\n",
       "439    52.0   342.10       4.0  17785.85         0"
      ]
     },
     "execution_count": 3,
     "metadata": {},
     "output_type": "execute_result"
    }
   ],
   "source": [
    "# Muestra aleatoria del conjunto de datos.\n",
    "df_users_behavior.sample(10)"
   ]
  },
  {
   "cell_type": "code",
   "execution_count": 4,
   "metadata": {},
   "outputs": [
    {
     "name": "stdout",
     "output_type": "stream",
     "text": [
      "<class 'pandas.core.frame.DataFrame'>\n",
      "RangeIndex: 3214 entries, 0 to 3213\n",
      "Data columns (total 5 columns):\n",
      " #   Column    Non-Null Count  Dtype  \n",
      "---  ------    --------------  -----  \n",
      " 0   calls     3214 non-null   float64\n",
      " 1   minutes   3214 non-null   float64\n",
      " 2   messages  3214 non-null   float64\n",
      " 3   mb_used   3214 non-null   float64\n",
      " 4   is_ultra  3214 non-null   int64  \n",
      "dtypes: float64(4), int64(1)\n",
      "memory usage: 125.7 KB\n"
     ]
    }
   ],
   "source": [
    "# Información general del dataframe.\n",
    "df_users_behavior.info()"
   ]
  },
  {
   "cell_type": "code",
   "execution_count": 5,
   "metadata": {},
   "outputs": [
    {
     "data": {
      "text/html": [
       "<div>\n",
       "<style scoped>\n",
       "    .dataframe tbody tr th:only-of-type {\n",
       "        vertical-align: middle;\n",
       "    }\n",
       "\n",
       "    .dataframe tbody tr th {\n",
       "        vertical-align: top;\n",
       "    }\n",
       "\n",
       "    .dataframe thead th {\n",
       "        text-align: right;\n",
       "    }\n",
       "</style>\n",
       "<table border=\"1\" class=\"dataframe\">\n",
       "  <thead>\n",
       "    <tr style=\"text-align: right;\">\n",
       "      <th></th>\n",
       "      <th>calls</th>\n",
       "      <th>minutes</th>\n",
       "      <th>messages</th>\n",
       "      <th>mb_used</th>\n",
       "      <th>is_ultra</th>\n",
       "    </tr>\n",
       "  </thead>\n",
       "  <tbody>\n",
       "    <tr>\n",
       "      <th>count</th>\n",
       "      <td>3214.000000</td>\n",
       "      <td>3214.000000</td>\n",
       "      <td>3214.000000</td>\n",
       "      <td>3214.000000</td>\n",
       "      <td>3214.000000</td>\n",
       "    </tr>\n",
       "    <tr>\n",
       "      <th>mean</th>\n",
       "      <td>63.038892</td>\n",
       "      <td>438.208787</td>\n",
       "      <td>38.281269</td>\n",
       "      <td>17207.673836</td>\n",
       "      <td>0.306472</td>\n",
       "    </tr>\n",
       "    <tr>\n",
       "      <th>std</th>\n",
       "      <td>33.236368</td>\n",
       "      <td>234.569872</td>\n",
       "      <td>36.148326</td>\n",
       "      <td>7570.968246</td>\n",
       "      <td>0.461100</td>\n",
       "    </tr>\n",
       "    <tr>\n",
       "      <th>min</th>\n",
       "      <td>0.000000</td>\n",
       "      <td>0.000000</td>\n",
       "      <td>0.000000</td>\n",
       "      <td>0.000000</td>\n",
       "      <td>0.000000</td>\n",
       "    </tr>\n",
       "    <tr>\n",
       "      <th>25%</th>\n",
       "      <td>40.000000</td>\n",
       "      <td>274.575000</td>\n",
       "      <td>9.000000</td>\n",
       "      <td>12491.902500</td>\n",
       "      <td>0.000000</td>\n",
       "    </tr>\n",
       "    <tr>\n",
       "      <th>50%</th>\n",
       "      <td>62.000000</td>\n",
       "      <td>430.600000</td>\n",
       "      <td>30.000000</td>\n",
       "      <td>16943.235000</td>\n",
       "      <td>0.000000</td>\n",
       "    </tr>\n",
       "    <tr>\n",
       "      <th>75%</th>\n",
       "      <td>82.000000</td>\n",
       "      <td>571.927500</td>\n",
       "      <td>57.000000</td>\n",
       "      <td>21424.700000</td>\n",
       "      <td>1.000000</td>\n",
       "    </tr>\n",
       "    <tr>\n",
       "      <th>max</th>\n",
       "      <td>244.000000</td>\n",
       "      <td>1632.060000</td>\n",
       "      <td>224.000000</td>\n",
       "      <td>49745.730000</td>\n",
       "      <td>1.000000</td>\n",
       "    </tr>\n",
       "  </tbody>\n",
       "</table>\n",
       "</div>"
      ],
      "text/plain": [
       "             calls      minutes     messages       mb_used     is_ultra\n",
       "count  3214.000000  3214.000000  3214.000000   3214.000000  3214.000000\n",
       "mean     63.038892   438.208787    38.281269  17207.673836     0.306472\n",
       "std      33.236368   234.569872    36.148326   7570.968246     0.461100\n",
       "min       0.000000     0.000000     0.000000      0.000000     0.000000\n",
       "25%      40.000000   274.575000     9.000000  12491.902500     0.000000\n",
       "50%      62.000000   430.600000    30.000000  16943.235000     0.000000\n",
       "75%      82.000000   571.927500    57.000000  21424.700000     1.000000\n",
       "max     244.000000  1632.060000   224.000000  49745.730000     1.000000"
      ]
     },
     "execution_count": 5,
     "metadata": {},
     "output_type": "execute_result"
    }
   ],
   "source": [
    "# Estadisticas generales del dataframe.\n",
    "df_users_behavior.describe()"
   ]
  },
  {
   "cell_type": "markdown",
   "metadata": {},
   "source": [
    "## Limpieza y preprocesamiento de los datos.\n",
    "\n",
    "Gracias a la exploración inicial, se ha identificado que no hay datos faltantes ni errores de tipado en las columnas. Sin embargo, en esta sección se realizará una comprobación adicional para garantizar la calidad de los datos. En caso de detectar errores, se llevarán a cabo las correcciones pertinentes para asegurar que los datos estén listos para su uso en las etapas siguientes del proyecto."
   ]
  },
  {
   "cell_type": "markdown",
   "metadata": {},
   "source": [
    "### Busqueda de datos ausentes."
   ]
  },
  {
   "cell_type": "code",
   "execution_count": 6,
   "metadata": {},
   "outputs": [
    {
     "data": {
      "text/plain": [
       "calls       0\n",
       "minutes     0\n",
       "messages    0\n",
       "mb_used     0\n",
       "is_ultra    0\n",
       "dtype: int64"
      ]
     },
     "execution_count": 6,
     "metadata": {},
     "output_type": "execute_result"
    }
   ],
   "source": [
    "# comprobamos los datos faltantes en el dataframe.\n",
    "df_users_behavior.isna().sum()"
   ]
  },
  {
   "cell_type": "markdown",
   "metadata": {},
   "source": [
    "No se encontraron datos faltantes en el dataframe."
   ]
  },
  {
   "cell_type": "markdown",
   "metadata": {},
   "source": [
    "### Busqueda de datos duplicados."
   ]
  },
  {
   "cell_type": "code",
   "execution_count": 7,
   "metadata": {},
   "outputs": [
    {
     "name": "stdout",
     "output_type": "stream",
     "text": [
      "El total de registros duplicados es de: 0\n"
     ]
    }
   ],
   "source": [
    "duplicates = df_users_behavior.duplicated().sum()\n",
    "\n",
    "print(f'El total de registros duplicados es de: {duplicates}')"
   ]
  },
  {
   "cell_type": "markdown",
   "metadata": {},
   "source": [
    "No se encontraron duplicados en el dataframe."
   ]
  },
  {
   "cell_type": "markdown",
   "metadata": {},
   "source": [
    "### Conclusión de la Verificación de Datos\n",
    "\n",
    "Después de realizar las comprobaciones necesarias, podemos confirmar que los datos del dataframe cumplen con los estándares de calidad esperados. Con esta validación completada, es posible proceder de manera segura al siguiente paso del proyecto."
   ]
  },
  {
   "cell_type": "markdown",
   "metadata": {},
   "source": [
    "## Selección y entrenamiento del modelo.\n",
    "\n",
    "En esta sección, se probarán diferentes modelos con el objetivo de evaluar cuál de ellos presenta el mejor desempeño. Este proceso de comparación nos permitirá seleccionar el modelo más adecuado para el análisis y la predicción en base a nuestros datos."
   ]
  },
  {
   "cell_type": "markdown",
   "metadata": {},
   "source": [
    "### Segmentación de datos.\n",
    "\n",
    "El primer paso en este proceso será la preparación de los datos. Esto incluirá:\n",
    "\n",
    "1. **Separación de Features y Target**: Se realizará la separación de las características (features) del objetivo (target).\n",
    "2. **División del Conjunto de Datos**: A continuación, se dividirá el conjunto de datos en tres partes: entrenamiento, validación y prueba.\n",
    "\n",
    "Este enfoque asegurará que los datos estén organizados de manera adecuada para el modelado."
   ]
  },
  {
   "cell_type": "code",
   "execution_count": 8,
   "metadata": {},
   "outputs": [],
   "source": [
    "# Separamos features de target.\n",
    "df_features = df_users_behavior.drop(['is_ultra'], axis=1)\n",
    "df_target = df_users_behavior['is_ultra']\n",
    "\n",
    "# Segmentamos datos\n",
    "features_train, features_temp, target_train, target_temp = train_test_split( df_features, df_target, test_size=.40, random_state=51999 )\n",
    "features_valid, features_test, target_valid, target_test = train_test_split( features_temp, target_temp, test_size=.5, random_state=51999 )\n"
   ]
  },
  {
   "cell_type": "markdown",
   "metadata": {},
   "source": [
    "### Modelo DecisionTreeClassifier.\n",
    "\n",
    "El primer modelo que se probará será el **DecisionTreeClassifier**. Este modelo es conocido por su simplicidad y rapidez en la ejecución. El objetivo es experimentar con diferentes valores del hiperparámetro `max_depth` para identificar el valor que ofrezca los mejores resultados en términos de rendimiento del modelo."
   ]
  },
  {
   "cell_type": "code",
   "execution_count": 9,
   "metadata": {},
   "outputs": [
    {
     "name": "stdout",
     "output_type": "stream",
     "text": [
      "El mejor score es 0.8227060653188181 con un depth de: 4\n"
     ]
    }
   ],
   "source": [
    "best_score = 0\n",
    "best_depth = 0\n",
    "\n",
    "for depth in range(1, 10):\n",
    "    model_1 = DecisionTreeClassifier( max_depth=depth, random_state=51999 )\n",
    "    model_1.fit( features_train, target_train)\n",
    "    score_valid = model_1.score( features_valid, target_valid )\n",
    "    \n",
    "    if score_valid > best_score:\n",
    "        best_score = score_valid\n",
    "        best_depth = depth\n",
    "print( f'El mejor score es {best_score} con un depth de: {best_depth}' )"
   ]
  },
  {
   "cell_type": "markdown",
   "metadata": {},
   "source": [
    "El modelo ha demostrado un buen rendimiento, obteniendo un score de **0.8227**, lo que implica aproximadamente **82 predicciones correctas** por cada **100**. Este resultado sugiere que el modelo tiene una capacidad considerable para clasificar correctamente los datos."
   ]
  },
  {
   "cell_type": "markdown",
   "metadata": {},
   "source": [
    "### Modelo RandomForestClassifier\n",
    "\n",
    "El siguiente modelo a probar será el **RandomForestClassifier**, que es similar al modelo anterior, el **DecisionTreeClassifier**, pero con una diferencia clave: este modelo crea múltiples árboles de decisión y luego realiza una votación para determinar el valor final. Aunque el **RandomForestClassifier** puede ofrecer una mayor precisión en comparación con el modelo anterior, también es más costoso en términos computacionales."
   ]
  },
  {
   "cell_type": "code",
   "execution_count": 13,
   "metadata": {},
   "outputs": [
    {
     "name": "stdout",
     "output_type": "stream",
     "text": [
      "El mejor score es 0.8149300155520995 con un est de: 9\n"
     ]
    }
   ],
   "source": [
    "best_score = 0\n",
    "best_est = 0\n",
    "\n",
    "for est in range(1,11):\n",
    "    \n",
    "    model_2 = RandomForestClassifier( n_estimators=est, random_state=51999, max_depth=3 )\n",
    "    model_2.fit( features_train, target_train)\n",
    "    score_valid = model_2.score( features_valid, target_valid)\n",
    "    \n",
    "    if score_valid > best_score:\n",
    "        best_score = score_valid\n",
    "        best_est = est\n",
    "\n",
    "print( f'El mejor score es {best_score} con un est de: {best_est}' )"
   ]
  },
  {
   "cell_type": "markdown",
   "metadata": {},
   "source": [
    "En este caso, se probaron variaciones en el hiperparámetro **n_estimators**. El mejor resultado obtenido fue un score de **0.8149**, lo que indica menos de **82 predicciones correctas** por cada **100**. Aunque este es un buen resultado, es ligeramente inferior al rendimiento del modelo **DecisionTreeClassifier**."
   ]
  },
  {
   "cell_type": "markdown",
   "metadata": {},
   "source": [
    "### Modelo LogisticRegression\n",
    "\n",
    "El siguiente modelo que se evaluará es el **LogisticRegression**. Este modelo es ampliamente utilizado para problemas de clasificación binaria y se basa en la función logística para predecir la probabilidad de pertenencia a una clase específica. "
   ]
  },
  {
   "cell_type": "code",
   "execution_count": 11,
   "metadata": {},
   "outputs": [
    {
     "name": "stdout",
     "output_type": "stream",
     "text": [
      "Accuracy del modelo de regresión logística en el conjunto de validación: 0.7527216174183515\n"
     ]
    }
   ],
   "source": [
    "model_3 = LogisticRegression(random_state=551999, solver='liblinear')\n",
    "model_3.fit( features_train, target_train)\n",
    "score_valid = model_3.score(features_valid, target_valid)\n",
    "print(\"Accuracy del modelo de regresión logística en el conjunto de validación:\", score_valid)"
   ]
  },
  {
   "cell_type": "markdown",
   "metadata": {},
   "source": [
    "El modelo **LogisticRegression** alcanzó un score máximo de **0.7527**. Este resultado indica que el modelo logró alrededor de **75 predicciones correctas** por cada **100**. Aunque este desempeño es aceptable, es inferior al de los modelos **DecisionTreeClassifier** y **RandomForestClassifier**."
   ]
  },
  {
   "cell_type": "markdown",
   "metadata": {},
   "source": [
    "En las pruebas realizadas, los modelos **DecisionTreeClassifier** y **RandomForestClassifier** obtuvieron los puntajes más altos. Sin embargo, dado que el **RandomForestClassifier** es más lento y resultó ser ligeramente menos eficiente, se ha decidido utilizar el modelo **DecisionTreeClassifier**. Esta elección se basa en su rendimiento superior y en la necesidad de un enfoque más ágil en el proceso de clasificación."
   ]
  },
  {
   "cell_type": "markdown",
   "metadata": {},
   "source": [
    "## Evaluación del modelo.\n",
    "\n",
    "Ahora que se ha seleccionado el modelo **DecisionTreeClassifier**, se procederá a realizar una prueba utilizando el conjunto de prueba para evaluar los resultados obtenidos. Este proceso permitirá medir el rendimiento del modelo en datos no vistos y determinar su capacidad de generalización. A continuación, se llevarán a cabo las predicciones. "
   ]
  },
  {
   "cell_type": "code",
   "execution_count": 12,
   "metadata": {},
   "outputs": [
    {
     "name": "stdout",
     "output_type": "stream",
     "text": [
      "El score es: 0.7791601866251944, mayor que el esperado 0.75.\n",
      "Las predicciones no tienen valores diferentes de 1 y 0\n"
     ]
    }
   ],
   "source": [
    "predictions_test = model_1.predict(features_test)\n",
    "\n",
    "score_test = accuracy_score( predictions_test, target_test )\n",
    "\n",
    "#####Prueba de cordura#####\n",
    "expected_accuracy_treshold = .75\n",
    "######Comprobamos que el score este por encima de .75\n",
    "if score_test > expected_accuracy_treshold:\n",
    "    print( f\"El score es: {score_test}, mayor que el esperado {expected_accuracy_treshold}.\")\n",
    "else:\n",
    "    print( f\"El score es: {score_test}, menor que el esperado {expected_accuracy_treshold}.\")\n",
    "\n",
    "#####Comprobamos que el modelo no genere valores diferentes de 1 y 0\n",
    "unique_values = df_target.unique()\n",
    "if all(np.isin( predictions_test, unique_values )):\n",
    "    print(\"Las predicciones no tienen valores diferentes de 1 y 0\")\n",
    "else:\n",
    "    print('El modelo generó valores incorrectos.')"
   ]
  },
  {
   "cell_type": "markdown",
   "metadata": {},
   "source": [
    "Después de realizar la prueba del modelo con el conjunto de datos de prueba, se ha comprobado que la precisión del modelo se encuentra por encima de **0.75** (el valor mínimo esperado). Este resultado indica que el modelo ha alcanzado los objetivos establecidos y ha obtenido resultados satisfactorios en su capacidad de clasificación."
   ]
  },
  {
   "cell_type": "markdown",
   "metadata": {},
   "source": [
    "## Conclusión."
   ]
  },
  {
   "cell_type": "markdown",
   "metadata": {},
   "source": [
    "\n",
    "Tras realizar un análisis exhaustivo y el desarrollo de un modelo de clasificación utilizando el **DecisionTreeClassifier**, se ha logrado alcanzar una precisión superior a **0.75** en el conjunto de prueba. Esto confirma que el modelo es capaz de recomendar de manera efectiva los nuevos planes **Smart** y **Ultra** a los clientes de Megaline, mejorando así la satisfacción del cliente y promoviendo la adopción de los planes más recientes. Los resultados obtenidos indican que la implementación del modelo puede tener un impacto positivo en la retención de clientes y en el crecimiento del negocio, al facilitar la transición hacia planes más modernos y competitivos. Con este éxito, Megaline está en una posición favorable para mejorar su oferta y satisfacer las necesidades de sus suscriptores."
   ]
  },
  {
   "cell_type": "code",
   "execution_count": null,
   "metadata": {},
   "outputs": [],
   "source": []
  }
 ],
 "metadata": {
  "ExecuteTimeLog": [
   {
    "duration": 162,
    "start_time": "2024-10-10T21:13:16.386Z"
   },
   {
    "duration": 295,
    "start_time": "2024-10-10T21:13:26.978Z"
   },
   {
    "duration": 384,
    "start_time": "2024-10-10T21:13:29.013Z"
   },
   {
    "duration": 61,
    "start_time": "2024-10-10T21:13:46.225Z"
   },
   {
    "duration": 2,
    "start_time": "2024-10-10T21:13:48.086Z"
   },
   {
    "duration": 15,
    "start_time": "2024-10-10T21:13:57.481Z"
   },
   {
    "duration": 12,
    "start_time": "2024-10-10T21:19:32.418Z"
   },
   {
    "duration": 9,
    "start_time": "2024-10-10T21:19:39.779Z"
   },
   {
    "duration": 9,
    "start_time": "2024-10-10T21:19:50.210Z"
   },
   {
    "duration": 9,
    "start_time": "2024-10-10T21:19:51.850Z"
   },
   {
    "duration": 9,
    "start_time": "2024-10-10T21:19:53.368Z"
   },
   {
    "duration": 10,
    "start_time": "2024-10-10T21:19:54.496Z"
   },
   {
    "duration": 3,
    "start_time": "2024-10-10T21:20:23.023Z"
   },
   {
    "duration": 9,
    "start_time": "2024-10-10T21:20:32.453Z"
   },
   {
    "duration": 14,
    "start_time": "2024-10-10T21:21:29.212Z"
   },
   {
    "duration": 18,
    "start_time": "2024-10-10T21:21:33.398Z"
   },
   {
    "duration": 5,
    "start_time": "2024-10-10T21:45:21.338Z"
   },
   {
    "duration": 6,
    "start_time": "2024-10-10T21:48:38.198Z"
   },
   {
    "duration": 5,
    "start_time": "2024-10-10T21:50:14.636Z"
   },
   {
    "duration": 277,
    "start_time": "2024-10-10T23:17:14.561Z"
   },
   {
    "duration": 11,
    "start_time": "2024-10-10T23:17:14.840Z"
   },
   {
    "duration": 11,
    "start_time": "2024-10-10T23:17:14.853Z"
   },
   {
    "duration": 8,
    "start_time": "2024-10-10T23:17:14.866Z"
   },
   {
    "duration": 16,
    "start_time": "2024-10-10T23:17:14.887Z"
   },
   {
    "duration": 5,
    "start_time": "2024-10-10T23:17:14.905Z"
   },
   {
    "duration": 4,
    "start_time": "2024-10-10T23:17:14.912Z"
   },
   {
    "duration": 1035,
    "start_time": "2024-10-11T00:48:53.133Z"
   },
   {
    "duration": 3,
    "start_time": "2024-10-11T00:49:30.341Z"
   },
   {
    "duration": 15,
    "start_time": "2024-10-11T01:22:09.642Z"
   },
   {
    "duration": 3,
    "start_time": "2024-10-11T01:22:15.731Z"
   },
   {
    "duration": 14,
    "start_time": "2024-10-11T01:22:19.168Z"
   },
   {
    "duration": 790,
    "start_time": "2024-10-11T01:22:46.591Z"
   },
   {
    "duration": 16,
    "start_time": "2024-10-11T01:22:47.384Z"
   },
   {
    "duration": 14,
    "start_time": "2024-10-11T01:22:47.401Z"
   },
   {
    "duration": 9,
    "start_time": "2024-10-11T01:22:47.417Z"
   },
   {
    "duration": 16,
    "start_time": "2024-10-11T01:22:47.428Z"
   },
   {
    "duration": 5,
    "start_time": "2024-10-11T01:22:47.445Z"
   },
   {
    "duration": 5,
    "start_time": "2024-10-11T01:22:47.452Z"
   },
   {
    "duration": 5,
    "start_time": "2024-10-11T01:22:47.459Z"
   },
   {
    "duration": 6,
    "start_time": "2024-10-11T01:22:47.465Z"
   },
   {
    "duration": 755,
    "start_time": "2024-10-12T19:58:41.925Z"
   },
   {
    "duration": 18,
    "start_time": "2024-10-12T19:58:42.683Z"
   },
   {
    "duration": 13,
    "start_time": "2024-10-12T19:58:42.703Z"
   },
   {
    "duration": 8,
    "start_time": "2024-10-12T19:58:42.717Z"
   },
   {
    "duration": 24,
    "start_time": "2024-10-12T19:58:42.729Z"
   },
   {
    "duration": 5,
    "start_time": "2024-10-12T19:58:42.755Z"
   },
   {
    "duration": 4,
    "start_time": "2024-10-12T19:58:42.761Z"
   },
   {
    "duration": 5,
    "start_time": "2024-10-12T19:58:42.767Z"
   },
   {
    "duration": 5,
    "start_time": "2024-10-12T19:58:42.773Z"
   },
   {
    "duration": 231,
    "start_time": "2024-10-12T20:11:40.837Z"
   },
   {
    "duration": 6,
    "start_time": "2024-10-12T20:11:52.284Z"
   },
   {
    "duration": 7,
    "start_time": "2024-10-12T20:11:54.579Z"
   },
   {
    "duration": 7,
    "start_time": "2024-10-12T20:11:54.742Z"
   },
   {
    "duration": 7,
    "start_time": "2024-10-12T20:11:55.173Z"
   },
   {
    "duration": 6,
    "start_time": "2024-10-12T20:32:42.774Z"
   },
   {
    "duration": 49,
    "start_time": "2024-10-12T20:34:38.299Z"
   },
   {
    "duration": 132,
    "start_time": "2024-10-12T20:34:52.415Z"
   },
   {
    "duration": 916,
    "start_time": "2024-10-12T20:35:01.413Z"
   },
   {
    "duration": 24,
    "start_time": "2024-10-12T20:35:14.074Z"
   },
   {
    "duration": 27,
    "start_time": "2024-10-12T20:52:46.034Z"
   },
   {
    "duration": 25,
    "start_time": "2024-10-12T20:53:09.004Z"
   },
   {
    "duration": 743,
    "start_time": "2024-10-12T20:53:17.205Z"
   },
   {
    "duration": 9,
    "start_time": "2024-10-12T20:53:17.950Z"
   },
   {
    "duration": 12,
    "start_time": "2024-10-12T20:53:17.961Z"
   },
   {
    "duration": 9,
    "start_time": "2024-10-12T20:53:17.975Z"
   },
   {
    "duration": 17,
    "start_time": "2024-10-12T20:53:17.986Z"
   },
   {
    "duration": 5,
    "start_time": "2024-10-12T20:53:18.005Z"
   },
   {
    "duration": 33,
    "start_time": "2024-10-12T20:53:18.012Z"
   },
   {
    "duration": 5,
    "start_time": "2024-10-12T20:53:18.049Z"
   },
   {
    "duration": 26,
    "start_time": "2024-10-12T20:53:18.056Z"
   },
   {
    "duration": 3,
    "start_time": "2024-10-12T20:55:17.186Z"
   },
   {
    "duration": 230,
    "start_time": "2024-10-12T20:59:26.680Z"
   },
   {
    "duration": 8,
    "start_time": "2024-10-12T20:59:32.393Z"
   },
   {
    "duration": 18,
    "start_time": "2024-10-12T20:59:35.037Z"
   },
   {
    "duration": 799,
    "start_time": "2024-10-12T20:59:48.690Z"
   },
   {
    "duration": 8,
    "start_time": "2024-10-12T20:59:49.492Z"
   },
   {
    "duration": 12,
    "start_time": "2024-10-12T20:59:49.502Z"
   },
   {
    "duration": 10,
    "start_time": "2024-10-12T20:59:49.516Z"
   },
   {
    "duration": 30,
    "start_time": "2024-10-12T20:59:49.528Z"
   },
   {
    "duration": 5,
    "start_time": "2024-10-12T20:59:49.559Z"
   },
   {
    "duration": 6,
    "start_time": "2024-10-12T20:59:49.565Z"
   },
   {
    "duration": 6,
    "start_time": "2024-10-12T20:59:49.573Z"
   },
   {
    "duration": 26,
    "start_time": "2024-10-12T20:59:49.580Z"
   },
   {
    "duration": 254,
    "start_time": "2024-10-12T20:59:49.608Z"
   },
   {
    "duration": 1481,
    "start_time": "2024-10-12T21:00:19.602Z"
   },
   {
    "duration": 1462,
    "start_time": "2024-10-12T21:00:28.455Z"
   },
   {
    "duration": 346,
    "start_time": "2024-10-12T21:09:14.842Z"
   },
   {
    "duration": 742,
    "start_time": "2024-10-12T21:09:27.561Z"
   },
   {
    "duration": 768,
    "start_time": "2024-10-12T21:09:37.566Z"
   },
   {
    "duration": 706,
    "start_time": "2024-10-12T21:09:42.649Z"
   },
   {
    "duration": 508,
    "start_time": "2024-10-12T21:12:42.428Z"
   },
   {
    "duration": 527,
    "start_time": "2024-10-12T21:13:44.925Z"
   },
   {
    "duration": 513,
    "start_time": "2024-10-12T21:13:52.485Z"
   },
   {
    "duration": 996,
    "start_time": "2024-10-12T21:13:59.506Z"
   },
   {
    "duration": 515,
    "start_time": "2024-10-12T21:14:18.716Z"
   },
   {
    "duration": 714,
    "start_time": "2024-10-12T21:14:46.298Z"
   },
   {
    "duration": 203,
    "start_time": "2024-10-12T21:15:05.652Z"
   },
   {
    "duration": 3,
    "start_time": "2024-10-12T21:33:18.533Z"
   },
   {
    "duration": 15,
    "start_time": "2024-10-12T21:43:38.628Z"
   },
   {
    "duration": 7030,
    "start_time": "2024-10-12T21:43:54.609Z"
   },
   {
    "duration": 6904,
    "start_time": "2024-10-12T21:44:15.340Z"
   },
   {
    "duration": 24,
    "start_time": "2024-10-12T21:45:20.071Z"
   },
   {
    "duration": 12983,
    "start_time": "2024-10-12T21:46:41.893Z"
   },
   {
    "duration": 4340,
    "start_time": "2024-10-12T21:47:15.322Z"
   },
   {
    "duration": 13242,
    "start_time": "2024-10-12T21:47:45.476Z"
   },
   {
    "duration": 12936,
    "start_time": "2024-10-12T21:48:38.564Z"
   },
   {
    "duration": 12545,
    "start_time": "2024-10-12T21:49:29.970Z"
   },
   {
    "duration": 15,
    "start_time": "2024-10-12T22:02:16.572Z"
   },
   {
    "duration": 817,
    "start_time": "2024-10-12T22:02:24.947Z"
   },
   {
    "duration": 9,
    "start_time": "2024-10-12T22:02:25.766Z"
   },
   {
    "duration": 12,
    "start_time": "2024-10-12T22:02:25.777Z"
   },
   {
    "duration": 9,
    "start_time": "2024-10-12T22:02:25.791Z"
   },
   {
    "duration": 16,
    "start_time": "2024-10-12T22:02:25.802Z"
   },
   {
    "duration": 5,
    "start_time": "2024-10-12T22:02:25.843Z"
   },
   {
    "duration": 5,
    "start_time": "2024-10-12T22:02:25.850Z"
   },
   {
    "duration": 6,
    "start_time": "2024-10-12T22:02:25.857Z"
   },
   {
    "duration": 270,
    "start_time": "2024-10-12T22:02:25.866Z"
   },
   {
    "duration": 0,
    "start_time": "2024-10-12T22:02:26.138Z"
   },
   {
    "duration": 1,
    "start_time": "2024-10-12T22:02:26.142Z"
   },
   {
    "duration": 799,
    "start_time": "2024-10-12T22:02:44.979Z"
   },
   {
    "duration": 7,
    "start_time": "2024-10-12T22:02:45.781Z"
   },
   {
    "duration": 12,
    "start_time": "2024-10-12T22:02:45.790Z"
   },
   {
    "duration": 9,
    "start_time": "2024-10-12T22:02:45.804Z"
   },
   {
    "duration": 37,
    "start_time": "2024-10-12T22:02:45.816Z"
   },
   {
    "duration": 4,
    "start_time": "2024-10-12T22:02:45.855Z"
   },
   {
    "duration": 5,
    "start_time": "2024-10-12T22:02:45.861Z"
   },
   {
    "duration": 5,
    "start_time": "2024-10-12T22:02:45.868Z"
   },
   {
    "duration": 26,
    "start_time": "2024-10-12T22:02:45.875Z"
   },
   {
    "duration": 242,
    "start_time": "2024-10-12T22:02:45.903Z"
   },
   {
    "duration": 10,
    "start_time": "2024-10-12T22:02:46.147Z"
   },
   {
    "duration": 10,
    "start_time": "2024-10-12T22:34:54.861Z"
   },
   {
    "duration": 837,
    "start_time": "2024-10-12T23:29:33.062Z"
   },
   {
    "duration": 11,
    "start_time": "2024-10-12T23:29:33.902Z"
   },
   {
    "duration": 12,
    "start_time": "2024-10-12T23:29:33.914Z"
   },
   {
    "duration": 16,
    "start_time": "2024-10-12T23:29:33.928Z"
   },
   {
    "duration": 16,
    "start_time": "2024-10-12T23:29:33.946Z"
   },
   {
    "duration": 5,
    "start_time": "2024-10-12T23:29:33.963Z"
   },
   {
    "duration": 5,
    "start_time": "2024-10-12T23:29:33.970Z"
   },
   {
    "duration": 6,
    "start_time": "2024-10-12T23:29:33.977Z"
   },
   {
    "duration": 25,
    "start_time": "2024-10-12T23:29:33.985Z"
   },
   {
    "duration": 207,
    "start_time": "2024-10-12T23:29:34.043Z"
   },
   {
    "duration": 9,
    "start_time": "2024-10-12T23:29:34.252Z"
   },
   {
    "duration": 802,
    "start_time": "2024-10-12T23:33:55.164Z"
   },
   {
    "duration": 8,
    "start_time": "2024-10-12T23:33:55.968Z"
   },
   {
    "duration": 12,
    "start_time": "2024-10-12T23:33:55.978Z"
   },
   {
    "duration": 9,
    "start_time": "2024-10-12T23:33:55.992Z"
   },
   {
    "duration": 16,
    "start_time": "2024-10-12T23:33:56.003Z"
   },
   {
    "duration": 27,
    "start_time": "2024-10-12T23:33:56.020Z"
   },
   {
    "duration": 5,
    "start_time": "2024-10-12T23:33:56.049Z"
   },
   {
    "duration": 253,
    "start_time": "2024-10-12T23:33:56.055Z"
   },
   {
    "duration": 0,
    "start_time": "2024-10-12T23:33:56.310Z"
   },
   {
    "duration": 0,
    "start_time": "2024-10-12T23:33:56.312Z"
   },
   {
    "duration": 0,
    "start_time": "2024-10-12T23:33:56.313Z"
   },
   {
    "duration": 762,
    "start_time": "2024-10-12T23:34:20.114Z"
   },
   {
    "duration": 8,
    "start_time": "2024-10-12T23:34:20.878Z"
   },
   {
    "duration": 13,
    "start_time": "2024-10-12T23:34:20.887Z"
   },
   {
    "duration": 9,
    "start_time": "2024-10-12T23:34:20.903Z"
   },
   {
    "duration": 40,
    "start_time": "2024-10-12T23:34:20.914Z"
   },
   {
    "duration": 6,
    "start_time": "2024-10-12T23:34:20.955Z"
   },
   {
    "duration": 5,
    "start_time": "2024-10-12T23:34:20.962Z"
   },
   {
    "duration": 6,
    "start_time": "2024-10-12T23:34:20.970Z"
   },
   {
    "duration": 25,
    "start_time": "2024-10-12T23:34:20.977Z"
   },
   {
    "duration": 191,
    "start_time": "2024-10-12T23:34:21.005Z"
   },
   {
    "duration": 8,
    "start_time": "2024-10-12T23:34:21.198Z"
   },
   {
    "duration": 748,
    "start_time": "2024-10-12T23:34:42.835Z"
   },
   {
    "duration": 8,
    "start_time": "2024-10-12T23:34:43.585Z"
   },
   {
    "duration": 13,
    "start_time": "2024-10-12T23:34:43.594Z"
   },
   {
    "duration": 9,
    "start_time": "2024-10-12T23:34:43.608Z"
   },
   {
    "duration": 36,
    "start_time": "2024-10-12T23:34:43.618Z"
   },
   {
    "duration": 5,
    "start_time": "2024-10-12T23:34:43.656Z"
   },
   {
    "duration": 4,
    "start_time": "2024-10-12T23:34:43.663Z"
   },
   {
    "duration": 6,
    "start_time": "2024-10-12T23:34:43.669Z"
   },
   {
    "duration": 24,
    "start_time": "2024-10-12T23:34:43.677Z"
   },
   {
    "duration": 180,
    "start_time": "2024-10-12T23:34:43.703Z"
   },
   {
    "duration": 8,
    "start_time": "2024-10-12T23:34:43.885Z"
   },
   {
    "duration": 808,
    "start_time": "2024-10-12T23:36:08.168Z"
   },
   {
    "duration": 8,
    "start_time": "2024-10-12T23:36:08.978Z"
   },
   {
    "duration": 17,
    "start_time": "2024-10-12T23:36:08.988Z"
   },
   {
    "duration": 15,
    "start_time": "2024-10-12T23:36:09.007Z"
   },
   {
    "duration": 26,
    "start_time": "2024-10-12T23:36:09.025Z"
   },
   {
    "duration": 6,
    "start_time": "2024-10-12T23:36:09.054Z"
   },
   {
    "duration": 5,
    "start_time": "2024-10-12T23:36:09.062Z"
   },
   {
    "duration": 7,
    "start_time": "2024-10-12T23:36:09.068Z"
   },
   {
    "duration": 23,
    "start_time": "2024-10-12T23:36:09.076Z"
   },
   {
    "duration": 167,
    "start_time": "2024-10-12T23:36:09.100Z"
   },
   {
    "duration": 9,
    "start_time": "2024-10-12T23:36:09.269Z"
   },
   {
    "duration": 830,
    "start_time": "2024-10-12T23:36:48.367Z"
   },
   {
    "duration": 9,
    "start_time": "2024-10-12T23:36:49.200Z"
   },
   {
    "duration": 13,
    "start_time": "2024-10-12T23:36:49.210Z"
   },
   {
    "duration": 22,
    "start_time": "2024-10-12T23:36:49.226Z"
   },
   {
    "duration": 17,
    "start_time": "2024-10-12T23:36:49.250Z"
   },
   {
    "duration": 5,
    "start_time": "2024-10-12T23:36:49.268Z"
   },
   {
    "duration": 6,
    "start_time": "2024-10-12T23:36:49.274Z"
   },
   {
    "duration": 895,
    "start_time": "2024-10-12T23:36:49.282Z"
   },
   {
    "duration": 0,
    "start_time": "2024-10-12T23:36:50.179Z"
   },
   {
    "duration": 0,
    "start_time": "2024-10-12T23:36:50.180Z"
   },
   {
    "duration": 0,
    "start_time": "2024-10-12T23:36:50.182Z"
   },
   {
    "duration": 755,
    "start_time": "2024-10-12T23:37:23.913Z"
   },
   {
    "duration": 8,
    "start_time": "2024-10-12T23:37:24.670Z"
   },
   {
    "duration": 11,
    "start_time": "2024-10-12T23:37:24.679Z"
   },
   {
    "duration": 9,
    "start_time": "2024-10-12T23:37:24.692Z"
   },
   {
    "duration": 16,
    "start_time": "2024-10-12T23:37:24.704Z"
   },
   {
    "duration": 26,
    "start_time": "2024-10-12T23:37:24.721Z"
   },
   {
    "duration": 4,
    "start_time": "2024-10-12T23:37:24.749Z"
   },
   {
    "duration": 7,
    "start_time": "2024-10-12T23:37:24.756Z"
   },
   {
    "duration": 24,
    "start_time": "2024-10-12T23:37:24.765Z"
   },
   {
    "duration": 167,
    "start_time": "2024-10-12T23:37:24.790Z"
   },
   {
    "duration": 8,
    "start_time": "2024-10-12T23:37:24.959Z"
   },
   {
    "duration": 788,
    "start_time": "2024-10-12T23:37:50.888Z"
   },
   {
    "duration": 7,
    "start_time": "2024-10-12T23:37:51.679Z"
   },
   {
    "duration": 11,
    "start_time": "2024-10-12T23:37:51.688Z"
   },
   {
    "duration": 9,
    "start_time": "2024-10-12T23:37:51.702Z"
   },
   {
    "duration": 36,
    "start_time": "2024-10-12T23:37:51.713Z"
   },
   {
    "duration": 5,
    "start_time": "2024-10-12T23:37:51.750Z"
   },
   {
    "duration": 4,
    "start_time": "2024-10-12T23:37:51.757Z"
   },
   {
    "duration": 7,
    "start_time": "2024-10-12T23:37:51.763Z"
   },
   {
    "duration": 26,
    "start_time": "2024-10-12T23:37:51.771Z"
   },
   {
    "duration": 243,
    "start_time": "2024-10-12T23:37:51.800Z"
   },
   {
    "duration": 10,
    "start_time": "2024-10-12T23:37:52.045Z"
   },
   {
    "duration": 119,
    "start_time": "2024-10-12T23:40:11.304Z"
   },
   {
    "duration": 202,
    "start_time": "2024-10-12T23:40:20.118Z"
   },
   {
    "duration": 181,
    "start_time": "2024-10-12T23:40:29.283Z"
   },
   {
    "duration": 199,
    "start_time": "2024-10-12T23:40:35.964Z"
   },
   {
    "duration": 208,
    "start_time": "2024-10-12T23:40:41.965Z"
   },
   {
    "duration": 208,
    "start_time": "2024-10-12T23:40:47.122Z"
   },
   {
    "duration": 202,
    "start_time": "2024-10-12T23:40:56.231Z"
   },
   {
    "duration": 116,
    "start_time": "2024-10-12T23:41:07.288Z"
   },
   {
    "duration": 110,
    "start_time": "2024-10-12T23:41:17.967Z"
   },
   {
    "duration": 124,
    "start_time": "2024-10-12T23:41:25.129Z"
   },
   {
    "duration": 98,
    "start_time": "2024-10-12T23:41:32.486Z"
   },
   {
    "duration": 126,
    "start_time": "2024-10-12T23:41:36.965Z"
   },
   {
    "duration": 131,
    "start_time": "2024-10-12T23:41:43.223Z"
   },
   {
    "duration": 140,
    "start_time": "2024-10-12T23:41:49.477Z"
   },
   {
    "duration": 152,
    "start_time": "2024-10-12T23:41:55.936Z"
   },
   {
    "duration": 156,
    "start_time": "2024-10-12T23:41:59.951Z"
   },
   {
    "duration": 171,
    "start_time": "2024-10-12T23:42:05.082Z"
   },
   {
    "duration": 110,
    "start_time": "2024-10-12T23:42:11.839Z"
   },
   {
    "duration": 36,
    "start_time": "2024-10-12T23:45:32.948Z"
   },
   {
    "duration": 66,
    "start_time": "2024-10-12T23:45:49.789Z"
   },
   {
    "duration": 1373,
    "start_time": "2024-10-12T23:45:57.378Z"
   },
   {
    "duration": 895,
    "start_time": "2024-10-12T23:48:17.883Z"
   },
   {
    "duration": 904,
    "start_time": "2024-10-12T23:48:36.839Z"
   },
   {
    "duration": 333,
    "start_time": "2024-10-12T23:48:49.382Z"
   },
   {
    "duration": 100,
    "start_time": "2024-10-12T23:48:59.556Z"
   },
   {
    "duration": 913,
    "start_time": "2024-10-12T23:49:05.038Z"
   },
   {
    "duration": 906,
    "start_time": "2024-10-12T23:49:14.609Z"
   },
   {
    "duration": 48,
    "start_time": "2024-10-12T23:49:27.396Z"
   },
   {
    "duration": 5,
    "start_time": "2024-10-12T23:58:42.003Z"
   },
   {
    "duration": 60,
    "start_time": "2024-10-13T00:00:15.664Z"
   },
   {
    "duration": 5,
    "start_time": "2024-10-13T00:00:30.331Z"
   },
   {
    "duration": 59,
    "start_time": "2024-10-13T00:00:33.939Z"
   },
   {
    "duration": 1191,
    "start_time": "2024-10-13T00:00:41.534Z"
   },
   {
    "duration": 61,
    "start_time": "2024-10-13T00:00:48.808Z"
   },
   {
    "duration": 5,
    "start_time": "2024-10-13T00:02:11.142Z"
   },
   {
    "duration": 57,
    "start_time": "2024-10-13T00:02:15.893Z"
   },
   {
    "duration": 6,
    "start_time": "2024-10-13T00:02:25.419Z"
   },
   {
    "duration": 66,
    "start_time": "2024-10-13T00:02:27.225Z"
   },
   {
    "duration": 5,
    "start_time": "2024-10-13T00:02:38.113Z"
   },
   {
    "duration": 6,
    "start_time": "2024-10-13T00:02:39.957Z"
   },
   {
    "duration": 59,
    "start_time": "2024-10-13T00:02:41.769Z"
   },
   {
    "duration": 754,
    "start_time": "2024-10-13T00:19:14.009Z"
   },
   {
    "duration": 9,
    "start_time": "2024-10-13T00:19:14.765Z"
   },
   {
    "duration": 13,
    "start_time": "2024-10-13T00:19:14.775Z"
   },
   {
    "duration": 9,
    "start_time": "2024-10-13T00:19:14.791Z"
   },
   {
    "duration": 16,
    "start_time": "2024-10-13T00:19:14.801Z"
   },
   {
    "duration": 6,
    "start_time": "2024-10-13T00:19:14.842Z"
   },
   {
    "duration": 4,
    "start_time": "2024-10-13T00:19:14.850Z"
   },
   {
    "duration": 8,
    "start_time": "2024-10-13T00:19:14.856Z"
   },
   {
    "duration": 78,
    "start_time": "2024-10-13T00:19:14.865Z"
   },
   {
    "duration": 124,
    "start_time": "2024-10-13T00:19:14.946Z"
   },
   {
    "duration": 10,
    "start_time": "2024-10-13T00:19:15.072Z"
   },
   {
    "duration": 5,
    "start_time": "2024-10-13T00:19:15.083Z"
   },
   {
    "duration": 77,
    "start_time": "2024-10-13T00:19:15.089Z"
   },
   {
    "duration": 6,
    "start_time": "2024-10-13T00:19:37.570Z"
   },
   {
    "duration": 785,
    "start_time": "2024-10-13T00:19:45.589Z"
   },
   {
    "duration": 9,
    "start_time": "2024-10-13T00:19:46.376Z"
   },
   {
    "duration": 13,
    "start_time": "2024-10-13T00:19:46.387Z"
   },
   {
    "duration": 9,
    "start_time": "2024-10-13T00:19:46.402Z"
   },
   {
    "duration": 31,
    "start_time": "2024-10-13T00:19:46.413Z"
   },
   {
    "duration": 4,
    "start_time": "2024-10-13T00:19:46.446Z"
   },
   {
    "duration": 4,
    "start_time": "2024-10-13T00:19:46.452Z"
   },
   {
    "duration": 8,
    "start_time": "2024-10-13T00:19:46.458Z"
   },
   {
    "duration": 45,
    "start_time": "2024-10-13T00:19:46.467Z"
   },
   {
    "duration": 135,
    "start_time": "2024-10-13T00:19:46.515Z"
   },
   {
    "duration": 8,
    "start_time": "2024-10-13T00:19:46.652Z"
   },
   {
    "duration": 4,
    "start_time": "2024-10-13T00:19:46.662Z"
   },
   {
    "duration": 75,
    "start_time": "2024-10-13T00:19:46.668Z"
   },
   {
    "duration": 6,
    "start_time": "2024-10-13T00:20:47.993Z"
   },
   {
    "duration": 779,
    "start_time": "2024-10-13T00:20:54.992Z"
   },
   {
    "duration": 8,
    "start_time": "2024-10-13T00:20:55.773Z"
   },
   {
    "duration": 12,
    "start_time": "2024-10-13T00:20:55.782Z"
   },
   {
    "duration": 9,
    "start_time": "2024-10-13T00:20:55.796Z"
   },
   {
    "duration": 38,
    "start_time": "2024-10-13T00:20:55.806Z"
   },
   {
    "duration": 5,
    "start_time": "2024-10-13T00:20:55.845Z"
   },
   {
    "duration": 4,
    "start_time": "2024-10-13T00:20:55.852Z"
   },
   {
    "duration": 7,
    "start_time": "2024-10-13T00:20:55.857Z"
   },
   {
    "duration": 46,
    "start_time": "2024-10-13T00:20:55.865Z"
   },
   {
    "duration": 137,
    "start_time": "2024-10-13T00:20:55.914Z"
   },
   {
    "duration": 10,
    "start_time": "2024-10-13T00:20:56.053Z"
   },
   {
    "duration": 6,
    "start_time": "2024-10-13T00:20:56.064Z"
   },
   {
    "duration": 76,
    "start_time": "2024-10-13T00:20:56.072Z"
   },
   {
    "duration": 6,
    "start_time": "2024-10-13T00:21:06.833Z"
   },
   {
    "duration": 785,
    "start_time": "2024-10-13T00:21:13.987Z"
   },
   {
    "duration": 7,
    "start_time": "2024-10-13T00:21:14.774Z"
   },
   {
    "duration": 12,
    "start_time": "2024-10-13T00:21:14.783Z"
   },
   {
    "duration": 8,
    "start_time": "2024-10-13T00:21:14.797Z"
   },
   {
    "duration": 38,
    "start_time": "2024-10-13T00:21:14.808Z"
   },
   {
    "duration": 5,
    "start_time": "2024-10-13T00:21:14.847Z"
   },
   {
    "duration": 4,
    "start_time": "2024-10-13T00:21:14.854Z"
   },
   {
    "duration": 6,
    "start_time": "2024-10-13T00:21:14.860Z"
   },
   {
    "duration": 76,
    "start_time": "2024-10-13T00:21:14.867Z"
   },
   {
    "duration": 117,
    "start_time": "2024-10-13T00:21:14.945Z"
   },
   {
    "duration": 8,
    "start_time": "2024-10-13T00:21:15.064Z"
   },
   {
    "duration": 4,
    "start_time": "2024-10-13T00:21:15.074Z"
   },
   {
    "duration": 75,
    "start_time": "2024-10-13T00:21:15.080Z"
   },
   {
    "duration": 7,
    "start_time": "2024-10-13T00:21:40.800Z"
   },
   {
    "duration": 779,
    "start_time": "2024-10-13T00:21:46.706Z"
   },
   {
    "duration": 7,
    "start_time": "2024-10-13T00:21:47.487Z"
   },
   {
    "duration": 12,
    "start_time": "2024-10-13T00:21:47.496Z"
   },
   {
    "duration": 9,
    "start_time": "2024-10-13T00:21:47.509Z"
   },
   {
    "duration": 32,
    "start_time": "2024-10-13T00:21:47.520Z"
   },
   {
    "duration": 15,
    "start_time": "2024-10-13T00:21:47.554Z"
   },
   {
    "duration": 4,
    "start_time": "2024-10-13T00:21:47.572Z"
   },
   {
    "duration": 6,
    "start_time": "2024-10-13T00:21:47.578Z"
   },
   {
    "duration": 66,
    "start_time": "2024-10-13T00:21:47.586Z"
   },
   {
    "duration": 113,
    "start_time": "2024-10-13T00:21:47.655Z"
   },
   {
    "duration": 10,
    "start_time": "2024-10-13T00:21:47.770Z"
   },
   {
    "duration": 5,
    "start_time": "2024-10-13T00:21:47.781Z"
   },
   {
    "duration": 80,
    "start_time": "2024-10-13T00:21:47.788Z"
   },
   {
    "duration": 6,
    "start_time": "2024-10-13T00:23:20.963Z"
   },
   {
    "duration": 747,
    "start_time": "2024-10-13T00:23:27.119Z"
   },
   {
    "duration": 8,
    "start_time": "2024-10-13T00:23:27.868Z"
   },
   {
    "duration": 12,
    "start_time": "2024-10-13T00:23:27.878Z"
   },
   {
    "duration": 8,
    "start_time": "2024-10-13T00:23:27.892Z"
   },
   {
    "duration": 15,
    "start_time": "2024-10-13T00:23:27.903Z"
   },
   {
    "duration": 6,
    "start_time": "2024-10-13T00:23:27.942Z"
   },
   {
    "duration": 5,
    "start_time": "2024-10-13T00:23:27.949Z"
   },
   {
    "duration": 6,
    "start_time": "2024-10-13T00:23:27.955Z"
   },
   {
    "duration": 51,
    "start_time": "2024-10-13T00:23:27.963Z"
   },
   {
    "duration": 139,
    "start_time": "2024-10-13T00:23:28.016Z"
   },
   {
    "duration": 8,
    "start_time": "2024-10-13T00:23:28.157Z"
   },
   {
    "duration": 5,
    "start_time": "2024-10-13T00:23:28.167Z"
   },
   {
    "duration": 80,
    "start_time": "2024-10-13T00:23:28.174Z"
   },
   {
    "duration": 6,
    "start_time": "2024-10-13T00:23:45.200Z"
   },
   {
    "duration": 758,
    "start_time": "2024-10-13T00:23:50.424Z"
   },
   {
    "duration": 8,
    "start_time": "2024-10-13T00:23:51.185Z"
   },
   {
    "duration": 12,
    "start_time": "2024-10-13T00:23:51.195Z"
   },
   {
    "duration": 10,
    "start_time": "2024-10-13T00:23:51.209Z"
   },
   {
    "duration": 23,
    "start_time": "2024-10-13T00:23:51.243Z"
   },
   {
    "duration": 6,
    "start_time": "2024-10-13T00:23:51.268Z"
   },
   {
    "duration": 4,
    "start_time": "2024-10-13T00:23:51.276Z"
   },
   {
    "duration": 6,
    "start_time": "2024-10-13T00:23:51.282Z"
   },
   {
    "duration": 78,
    "start_time": "2024-10-13T00:23:51.289Z"
   },
   {
    "duration": 123,
    "start_time": "2024-10-13T00:23:51.368Z"
   },
   {
    "duration": 10,
    "start_time": "2024-10-13T00:23:51.492Z"
   },
   {
    "duration": 5,
    "start_time": "2024-10-13T00:23:51.504Z"
   },
   {
    "duration": 72,
    "start_time": "2024-10-13T00:23:51.510Z"
   },
   {
    "duration": 820,
    "start_time": "2024-10-13T00:24:17.958Z"
   },
   {
    "duration": 8,
    "start_time": "2024-10-13T00:24:18.780Z"
   },
   {
    "duration": 13,
    "start_time": "2024-10-13T00:24:18.790Z"
   },
   {
    "duration": 9,
    "start_time": "2024-10-13T00:24:18.804Z"
   },
   {
    "duration": 37,
    "start_time": "2024-10-13T00:24:18.816Z"
   },
   {
    "duration": 4,
    "start_time": "2024-10-13T00:24:18.855Z"
   },
   {
    "duration": 4,
    "start_time": "2024-10-13T00:24:18.862Z"
   },
   {
    "duration": 6,
    "start_time": "2024-10-13T00:24:18.868Z"
   },
   {
    "duration": 75,
    "start_time": "2024-10-13T00:24:18.875Z"
   },
   {
    "duration": 119,
    "start_time": "2024-10-13T00:24:18.953Z"
   },
   {
    "duration": 11,
    "start_time": "2024-10-13T00:24:19.076Z"
   },
   {
    "duration": 7,
    "start_time": "2024-10-13T00:24:19.092Z"
   },
   {
    "duration": 74,
    "start_time": "2024-10-13T00:24:19.101Z"
   },
   {
    "duration": 766,
    "start_time": "2024-10-13T00:24:41.012Z"
   },
   {
    "duration": 8,
    "start_time": "2024-10-13T00:24:41.780Z"
   },
   {
    "duration": 12,
    "start_time": "2024-10-13T00:24:41.790Z"
   },
   {
    "duration": 9,
    "start_time": "2024-10-13T00:24:41.804Z"
   },
   {
    "duration": 36,
    "start_time": "2024-10-13T00:24:41.816Z"
   },
   {
    "duration": 5,
    "start_time": "2024-10-13T00:24:41.854Z"
   },
   {
    "duration": 5,
    "start_time": "2024-10-13T00:24:41.861Z"
   },
   {
    "duration": 6,
    "start_time": "2024-10-13T00:24:41.867Z"
   },
   {
    "duration": 71,
    "start_time": "2024-10-13T00:24:41.875Z"
   },
   {
    "duration": 118,
    "start_time": "2024-10-13T00:24:41.947Z"
   },
   {
    "duration": 8,
    "start_time": "2024-10-13T00:24:42.067Z"
   },
   {
    "duration": 5,
    "start_time": "2024-10-13T00:24:42.077Z"
   },
   {
    "duration": 79,
    "start_time": "2024-10-13T00:24:42.083Z"
   },
   {
    "duration": 811,
    "start_time": "2024-10-13T00:25:21.976Z"
   },
   {
    "duration": 8,
    "start_time": "2024-10-13T00:25:22.789Z"
   },
   {
    "duration": 13,
    "start_time": "2024-10-13T00:25:22.798Z"
   },
   {
    "duration": 10,
    "start_time": "2024-10-13T00:25:22.813Z"
   },
   {
    "duration": 33,
    "start_time": "2024-10-13T00:25:22.825Z"
   },
   {
    "duration": 5,
    "start_time": "2024-10-13T00:25:22.860Z"
   },
   {
    "duration": 4,
    "start_time": "2024-10-13T00:25:22.867Z"
   },
   {
    "duration": 5,
    "start_time": "2024-10-13T00:25:22.873Z"
   },
   {
    "duration": 80,
    "start_time": "2024-10-13T00:25:22.880Z"
   },
   {
    "duration": 122,
    "start_time": "2024-10-13T00:25:22.963Z"
   },
   {
    "duration": 8,
    "start_time": "2024-10-13T00:25:23.087Z"
   },
   {
    "duration": 7,
    "start_time": "2024-10-13T00:25:23.097Z"
   },
   {
    "duration": 80,
    "start_time": "2024-10-13T00:25:23.106Z"
   },
   {
    "duration": 785,
    "start_time": "2024-10-13T00:26:28.991Z"
   },
   {
    "duration": 8,
    "start_time": "2024-10-13T00:26:29.779Z"
   },
   {
    "duration": 14,
    "start_time": "2024-10-13T00:26:29.788Z"
   },
   {
    "duration": 9,
    "start_time": "2024-10-13T00:26:29.803Z"
   },
   {
    "duration": 33,
    "start_time": "2024-10-13T00:26:29.814Z"
   },
   {
    "duration": 6,
    "start_time": "2024-10-13T00:26:29.848Z"
   },
   {
    "duration": 5,
    "start_time": "2024-10-13T00:26:29.855Z"
   },
   {
    "duration": 7,
    "start_time": "2024-10-13T00:26:29.862Z"
   },
   {
    "duration": 78,
    "start_time": "2024-10-13T00:26:29.870Z"
   },
   {
    "duration": 118,
    "start_time": "2024-10-13T00:26:29.950Z"
   },
   {
    "duration": 10,
    "start_time": "2024-10-13T00:26:30.070Z"
   },
   {
    "duration": 5,
    "start_time": "2024-10-13T00:26:30.081Z"
   },
   {
    "duration": 77,
    "start_time": "2024-10-13T00:26:30.087Z"
   },
   {
    "duration": 5,
    "start_time": "2024-10-13T00:51:51.725Z"
   },
   {
    "duration": 5,
    "start_time": "2024-10-13T00:52:16.039Z"
   },
   {
    "duration": 5,
    "start_time": "2024-10-13T00:52:17.095Z"
   },
   {
    "duration": 5,
    "start_time": "2024-10-13T00:52:17.253Z"
   },
   {
    "duration": 7,
    "start_time": "2024-10-13T00:52:19.253Z"
   },
   {
    "duration": 5,
    "start_time": "2024-10-13T00:52:20.087Z"
   },
   {
    "duration": 180,
    "start_time": "2024-10-13T02:54:57.620Z"
   },
   {
    "duration": 812,
    "start_time": "2024-10-13T02:55:06.062Z"
   },
   {
    "duration": 11,
    "start_time": "2024-10-13T02:55:06.876Z"
   },
   {
    "duration": 14,
    "start_time": "2024-10-13T02:55:06.889Z"
   },
   {
    "duration": 9,
    "start_time": "2024-10-13T02:55:06.905Z"
   },
   {
    "duration": 31,
    "start_time": "2024-10-13T02:55:06.916Z"
   },
   {
    "duration": 5,
    "start_time": "2024-10-13T02:55:06.949Z"
   },
   {
    "duration": 4,
    "start_time": "2024-10-13T02:55:06.956Z"
   },
   {
    "duration": 6,
    "start_time": "2024-10-13T02:55:06.962Z"
   },
   {
    "duration": 79,
    "start_time": "2024-10-13T02:55:06.969Z"
   },
   {
    "duration": 123,
    "start_time": "2024-10-13T02:55:07.051Z"
   },
   {
    "duration": 10,
    "start_time": "2024-10-13T02:55:07.176Z"
   },
   {
    "duration": 7,
    "start_time": "2024-10-13T02:55:07.188Z"
   },
   {
    "duration": 165,
    "start_time": "2024-10-14T18:39:21.503Z"
   },
   {
    "duration": 921,
    "start_time": "2024-10-14T18:39:28.034Z"
   },
   {
    "duration": 21,
    "start_time": "2024-10-14T18:39:28.958Z"
   },
   {
    "duration": 13,
    "start_time": "2024-10-14T18:39:28.980Z"
   },
   {
    "duration": 12,
    "start_time": "2024-10-14T18:39:28.995Z"
   },
   {
    "duration": 17,
    "start_time": "2024-10-14T18:39:29.010Z"
   },
   {
    "duration": 6,
    "start_time": "2024-10-14T18:39:29.029Z"
   },
   {
    "duration": 5,
    "start_time": "2024-10-14T18:39:29.038Z"
   },
   {
    "duration": 6,
    "start_time": "2024-10-14T18:39:29.045Z"
   },
   {
    "duration": 84,
    "start_time": "2024-10-14T18:39:29.053Z"
   },
   {
    "duration": 121,
    "start_time": "2024-10-14T18:39:29.140Z"
   },
   {
    "duration": 11,
    "start_time": "2024-10-14T18:39:29.263Z"
   },
   {
    "duration": 9,
    "start_time": "2024-10-14T18:39:29.276Z"
   },
   {
    "duration": 5,
    "start_time": "2024-10-14T18:40:11.550Z"
   },
   {
    "duration": 4,
    "start_time": "2024-10-14T18:40:15.000Z"
   },
   {
    "duration": 407,
    "start_time": "2024-10-14T18:40:20.983Z"
   },
   {
    "duration": 7,
    "start_time": "2024-10-14T18:40:57.561Z"
   },
   {
    "duration": 17,
    "start_time": "2024-10-14T18:42:32.525Z"
   },
   {
    "duration": 120,
    "start_time": "2024-10-14T19:21:08.897Z"
   },
   {
    "duration": 197,
    "start_time": "2024-10-14T19:21:13.347Z"
   },
   {
    "duration": 101,
    "start_time": "2024-10-14T19:21:20.934Z"
   },
   {
    "duration": 130,
    "start_time": "2024-10-14T19:21:24.825Z"
   },
   {
    "duration": 139,
    "start_time": "2024-10-14T19:21:28.654Z"
   },
   {
    "duration": 158,
    "start_time": "2024-10-14T19:21:32.439Z"
   },
   {
    "duration": 167,
    "start_time": "2024-10-14T19:21:38.133Z"
   },
   {
    "duration": 189,
    "start_time": "2024-10-14T19:21:41.486Z"
   },
   {
    "duration": 184,
    "start_time": "2024-10-14T19:21:45.540Z"
   },
   {
    "duration": 187,
    "start_time": "2024-10-14T19:21:49.638Z"
   },
   {
    "duration": 194,
    "start_time": "2024-10-14T19:21:52.972Z"
   },
   {
    "duration": 203,
    "start_time": "2024-10-14T19:21:55.864Z"
   },
   {
    "duration": 223,
    "start_time": "2024-10-14T19:21:58.849Z"
   },
   {
    "duration": 195,
    "start_time": "2024-10-14T19:22:03.340Z"
   },
   {
    "duration": 201,
    "start_time": "2024-10-14T19:22:07.092Z"
   },
   {
    "duration": 200,
    "start_time": "2024-10-14T19:22:11.338Z"
   },
   {
    "duration": 247,
    "start_time": "2024-10-14T19:22:16.686Z"
   },
   {
    "duration": 127,
    "start_time": "2024-10-14T19:22:27.689Z"
   },
   {
    "duration": 6,
    "start_time": "2024-10-14T20:30:15.329Z"
   },
   {
    "duration": 782,
    "start_time": "2024-10-14T20:37:10.652Z"
   },
   {
    "duration": 9,
    "start_time": "2024-10-14T20:37:11.436Z"
   },
   {
    "duration": 12,
    "start_time": "2024-10-14T20:37:11.446Z"
   },
   {
    "duration": 11,
    "start_time": "2024-10-14T20:37:11.462Z"
   },
   {
    "duration": 34,
    "start_time": "2024-10-14T20:37:11.475Z"
   },
   {
    "duration": 7,
    "start_time": "2024-10-14T20:37:11.511Z"
   },
   {
    "duration": 5,
    "start_time": "2024-10-14T20:37:11.520Z"
   },
   {
    "duration": 6,
    "start_time": "2024-10-14T20:37:11.527Z"
   },
   {
    "duration": 79,
    "start_time": "2024-10-14T20:37:11.535Z"
   },
   {
    "duration": 130,
    "start_time": "2024-10-14T20:37:11.619Z"
   },
   {
    "duration": 9,
    "start_time": "2024-10-14T20:37:11.751Z"
   },
   {
    "duration": 5,
    "start_time": "2024-10-14T20:37:11.762Z"
   },
   {
    "duration": 5,
    "start_time": "2024-10-14T21:04:01.542Z"
   },
   {
    "duration": 19,
    "start_time": "2024-10-14T21:06:15.899Z"
   },
   {
    "duration": 11,
    "start_time": "2024-10-14T21:09:42.463Z"
   },
   {
    "duration": 10,
    "start_time": "2024-10-14T21:09:51.432Z"
   },
   {
    "duration": 11,
    "start_time": "2024-10-14T21:10:46.881Z"
   },
   {
    "duration": 12,
    "start_time": "2024-10-14T21:10:52.544Z"
   },
   {
    "duration": 23,
    "start_time": "2024-10-14T21:10:58.697Z"
   },
   {
    "duration": 29,
    "start_time": "2024-10-14T21:11:05.300Z"
   },
   {
    "duration": 11,
    "start_time": "2024-10-14T21:11:14.778Z"
   },
   {
    "duration": 62,
    "start_time": "2024-10-14T21:12:01.439Z"
   },
   {
    "duration": 763,
    "start_time": "2024-10-14T21:12:21.373Z"
   },
   {
    "duration": 9,
    "start_time": "2024-10-14T21:12:22.142Z"
   },
   {
    "duration": 12,
    "start_time": "2024-10-14T21:12:22.152Z"
   },
   {
    "duration": 8,
    "start_time": "2024-10-14T21:12:22.166Z"
   },
   {
    "duration": 15,
    "start_time": "2024-10-14T21:12:22.177Z"
   },
   {
    "duration": 16,
    "start_time": "2024-10-14T21:12:22.213Z"
   },
   {
    "duration": 5,
    "start_time": "2024-10-14T21:12:22.231Z"
   },
   {
    "duration": 5,
    "start_time": "2024-10-14T21:12:22.238Z"
   },
   {
    "duration": 50,
    "start_time": "2024-10-14T21:12:22.245Z"
   },
   {
    "duration": 137,
    "start_time": "2024-10-14T21:12:22.297Z"
   },
   {
    "duration": 14,
    "start_time": "2024-10-14T21:12:22.441Z"
   },
   {
    "duration": 13,
    "start_time": "2024-10-14T21:12:22.456Z"
   },
   {
    "duration": 117,
    "start_time": "2024-10-14T21:13:03.175Z"
   },
   {
    "duration": 23,
    "start_time": "2024-10-14T21:13:16.613Z"
   },
   {
    "duration": 813,
    "start_time": "2024-10-14T21:13:24.230Z"
   },
   {
    "duration": 8,
    "start_time": "2024-10-14T21:13:25.046Z"
   },
   {
    "duration": 13,
    "start_time": "2024-10-14T21:13:25.056Z"
   },
   {
    "duration": 8,
    "start_time": "2024-10-14T21:13:25.072Z"
   },
   {
    "duration": 59,
    "start_time": "2024-10-14T21:13:25.082Z"
   },
   {
    "duration": 6,
    "start_time": "2024-10-14T21:13:25.143Z"
   },
   {
    "duration": 5,
    "start_time": "2024-10-14T21:13:25.151Z"
   },
   {
    "duration": 6,
    "start_time": "2024-10-14T21:13:25.157Z"
   },
   {
    "duration": 59,
    "start_time": "2024-10-14T21:13:25.165Z"
   },
   {
    "duration": 116,
    "start_time": "2024-10-14T21:13:25.228Z"
   },
   {
    "duration": 9,
    "start_time": "2024-10-14T21:13:25.346Z"
   },
   {
    "duration": 9,
    "start_time": "2024-10-14T21:13:25.356Z"
   },
   {
    "duration": 6,
    "start_time": "2024-10-14T21:14:00.942Z"
   },
   {
    "duration": 4,
    "start_time": "2024-10-14T21:27:42.954Z"
   },
   {
    "duration": 5,
    "start_time": "2024-10-14T21:30:21.339Z"
   },
   {
    "duration": 6,
    "start_time": "2024-10-14T21:30:39.068Z"
   },
   {
    "duration": 6,
    "start_time": "2024-10-14T21:31:06.934Z"
   },
   {
    "duration": 266,
    "start_time": "2024-10-14T21:31:32.434Z"
   },
   {
    "duration": 21,
    "start_time": "2024-10-14T21:32:09.547Z"
   },
   {
    "duration": 3,
    "start_time": "2024-10-14T21:34:03.806Z"
   },
   {
    "duration": 3,
    "start_time": "2024-10-14T21:34:30.810Z"
   },
   {
    "duration": 8,
    "start_time": "2024-10-14T21:34:48.865Z"
   },
   {
    "duration": 33,
    "start_time": "2024-10-14T21:40:13.613Z"
   },
   {
    "duration": 10,
    "start_time": "2024-10-15T13:55:35.230Z"
   },
   {
    "duration": 855,
    "start_time": "2024-10-15T14:07:53.740Z"
   },
   {
    "duration": 15,
    "start_time": "2024-10-15T14:07:55.647Z"
   },
   {
    "duration": 15,
    "start_time": "2024-10-15T14:07:56.648Z"
   },
   {
    "duration": 10,
    "start_time": "2024-10-15T14:07:56.832Z"
   },
   {
    "duration": 16,
    "start_time": "2024-10-15T14:07:57.301Z"
   },
   {
    "duration": 12,
    "start_time": "2024-10-15T14:07:57.936Z"
   },
   {
    "duration": 5,
    "start_time": "2024-10-15T14:07:59.290Z"
   },
   {
    "duration": 7,
    "start_time": "2024-10-15T14:08:01.629Z"
   },
   {
    "duration": 9,
    "start_time": "2024-10-15T14:08:08.282Z"
   },
   {
    "duration": 3,
    "start_time": "2024-10-15T14:08:15.788Z"
   },
   {
    "duration": 4,
    "start_time": "2024-10-15T14:08:22.115Z"
   },
   {
    "duration": 4,
    "start_time": "2024-10-15T14:08:39.389Z"
   },
   {
    "duration": 4,
    "start_time": "2024-10-15T14:08:55.691Z"
   },
   {
    "duration": 4,
    "start_time": "2024-10-15T14:09:21.999Z"
   },
   {
    "duration": 156,
    "start_time": "2024-10-16T05:10:54.780Z"
   },
   {
    "duration": 752,
    "start_time": "2024-10-16T05:11:15.282Z"
   },
   {
    "duration": 11,
    "start_time": "2024-10-16T05:11:16.036Z"
   },
   {
    "duration": 13,
    "start_time": "2024-10-16T05:11:16.048Z"
   },
   {
    "duration": 8,
    "start_time": "2024-10-16T05:11:16.063Z"
   },
   {
    "duration": 17,
    "start_time": "2024-10-16T05:11:16.073Z"
   },
   {
    "duration": 5,
    "start_time": "2024-10-16T05:11:16.092Z"
   },
   {
    "duration": 27,
    "start_time": "2024-10-16T05:11:16.099Z"
   },
   {
    "duration": 6,
    "start_time": "2024-10-16T05:11:16.128Z"
   },
   {
    "duration": 47,
    "start_time": "2024-10-16T05:11:16.136Z"
   },
   {
    "duration": 5912,
    "start_time": "2024-10-16T05:11:16.186Z"
   },
   {
    "duration": 9,
    "start_time": "2024-10-16T05:11:22.100Z"
   },
   {
    "duration": 16,
    "start_time": "2024-10-16T05:11:22.111Z"
   },
   {
    "duration": 105,
    "start_time": "2024-10-16T05:11:36.882Z"
   }
  ],
  "kernelspec": {
   "display_name": "Python [conda env:base] *",
   "language": "python",
   "name": "conda-base-py"
  },
  "language_info": {
   "codemirror_mode": {
    "name": "ipython",
    "version": 3
   },
   "file_extension": ".py",
   "mimetype": "text/x-python",
   "name": "python",
   "nbconvert_exporter": "python",
   "pygments_lexer": "ipython3",
   "version": "3.11.7"
  },
  "toc": {
   "base_numbering": 1,
   "nav_menu": {},
   "number_sections": true,
   "sideBar": true,
   "skip_h1_title": true,
   "title_cell": "Table of Contents",
   "title_sidebar": "Contents",
   "toc_cell": false,
   "toc_position": {},
   "toc_section_display": true,
   "toc_window_display": false
  }
 },
 "nbformat": 4,
 "nbformat_minor": 4
}
